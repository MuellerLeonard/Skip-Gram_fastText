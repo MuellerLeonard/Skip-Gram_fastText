{
  "nbformat": 4,
  "nbformat_minor": 0,
  "metadata": {
    "colab": {
      "name": "Test.ipynb",
      "provenance": [],
      "collapsed_sections": [],
      "authorship_tag": "ABX9TyPnQ8rxqEFgnnLZJ2nWaJHY",
      "include_colab_link": true
    },
    "kernelspec": {
      "name": "python3",
      "display_name": "Python 3"
    },
    "accelerator": "GPU"
  },
  "cells": [
    {
      "cell_type": "markdown",
      "metadata": {
        "id": "view-in-github",
        "colab_type": "text"
      },
      "source": [
        "<a href=\"https://colab.research.google.com/github/MuellerLeonard/Skip-Gram_fastText/blob/master/Environment.ipynb\" target=\"_parent\"><img src=\"https://colab.research.google.com/assets/colab-badge.svg\" alt=\"Open In Colab\"/></a>"
      ]
    },
    {
      "cell_type": "code",
      "metadata": {
        "id": "5yuhFPWjyQGN",
        "colab_type": "code",
        "colab": {
          "base_uri": "https://localhost:8080/",
          "height": 955
        },
        "outputId": "24e60d97-7a0b-4487-e65f-85e320a5992c"
      },
      "source": [
        "!pip install tensorflow-gpu\n",
        "!pip install keras\n",
        "!pip install requests"
      ],
      "execution_count": null,
      "outputs": [
        {
          "output_type": "stream",
          "text": [
            "Collecting tensorflow-gpu\n",
            "\u001b[?25l  Downloading https://files.pythonhosted.org/packages/31/bf/c28971266ca854a64f4b26f07c4112ddd61f30b4d1f18108b954a746f8ea/tensorflow_gpu-2.2.0-cp36-cp36m-manylinux2010_x86_64.whl (516.2MB)\n",
            "\u001b[K     |████████████████████████████████| 516.2MB 32kB/s \n",
            "\u001b[?25hRequirement already satisfied: keras-preprocessing>=1.1.0 in /usr/local/lib/python3.6/dist-packages (from tensorflow-gpu) (1.1.2)\n",
            "Requirement already satisfied: grpcio>=1.8.6 in /usr/local/lib/python3.6/dist-packages (from tensorflow-gpu) (1.30.0)\n",
            "Requirement already satisfied: wrapt>=1.11.1 in /usr/local/lib/python3.6/dist-packages (from tensorflow-gpu) (1.12.1)\n",
            "Requirement already satisfied: scipy==1.4.1; python_version >= \"3\" in /usr/local/lib/python3.6/dist-packages (from tensorflow-gpu) (1.4.1)\n",
            "Requirement already satisfied: absl-py>=0.7.0 in /usr/local/lib/python3.6/dist-packages (from tensorflow-gpu) (0.9.0)\n",
            "Requirement already satisfied: termcolor>=1.1.0 in /usr/local/lib/python3.6/dist-packages (from tensorflow-gpu) (1.1.0)\n",
            "Requirement already satisfied: six>=1.12.0 in /usr/local/lib/python3.6/dist-packages (from tensorflow-gpu) (1.12.0)\n",
            "Requirement already satisfied: protobuf>=3.8.0 in /usr/local/lib/python3.6/dist-packages (from tensorflow-gpu) (3.10.0)\n",
            "Requirement already satisfied: h5py<2.11.0,>=2.10.0 in /usr/local/lib/python3.6/dist-packages (from tensorflow-gpu) (2.10.0)\n",
            "Requirement already satisfied: google-pasta>=0.1.8 in /usr/local/lib/python3.6/dist-packages (from tensorflow-gpu) (0.2.0)\n",
            "Requirement already satisfied: tensorflow-estimator<2.3.0,>=2.2.0 in /usr/local/lib/python3.6/dist-packages (from tensorflow-gpu) (2.2.0)\n",
            "Requirement already satisfied: numpy<2.0,>=1.16.0 in /usr/local/lib/python3.6/dist-packages (from tensorflow-gpu) (1.18.5)\n",
            "Requirement already satisfied: astunparse==1.6.3 in /usr/local/lib/python3.6/dist-packages (from tensorflow-gpu) (1.6.3)\n",
            "Requirement already satisfied: gast==0.3.3 in /usr/local/lib/python3.6/dist-packages (from tensorflow-gpu) (0.3.3)\n",
            "Requirement already satisfied: tensorboard<2.3.0,>=2.2.0 in /usr/local/lib/python3.6/dist-packages (from tensorflow-gpu) (2.2.2)\n",
            "Requirement already satisfied: wheel>=0.26; python_version >= \"3\" in /usr/local/lib/python3.6/dist-packages (from tensorflow-gpu) (0.34.2)\n",
            "Requirement already satisfied: opt-einsum>=2.3.2 in /usr/local/lib/python3.6/dist-packages (from tensorflow-gpu) (3.2.1)\n",
            "Requirement already satisfied: setuptools in /usr/local/lib/python3.6/dist-packages (from protobuf>=3.8.0->tensorflow-gpu) (47.3.1)\n",
            "Requirement already satisfied: werkzeug>=0.11.15 in /usr/local/lib/python3.6/dist-packages (from tensorboard<2.3.0,>=2.2.0->tensorflow-gpu) (1.0.1)\n",
            "Requirement already satisfied: markdown>=2.6.8 in /usr/local/lib/python3.6/dist-packages (from tensorboard<2.3.0,>=2.2.0->tensorflow-gpu) (3.2.2)\n",
            "Requirement already satisfied: requests<3,>=2.21.0 in /usr/local/lib/python3.6/dist-packages (from tensorboard<2.3.0,>=2.2.0->tensorflow-gpu) (2.23.0)\n",
            "Requirement already satisfied: google-auth<2,>=1.6.3 in /usr/local/lib/python3.6/dist-packages (from tensorboard<2.3.0,>=2.2.0->tensorflow-gpu) (1.17.2)\n",
            "Requirement already satisfied: google-auth-oauthlib<0.5,>=0.4.1 in /usr/local/lib/python3.6/dist-packages (from tensorboard<2.3.0,>=2.2.0->tensorflow-gpu) (0.4.1)\n",
            "Requirement already satisfied: tensorboard-plugin-wit>=1.6.0 in /usr/local/lib/python3.6/dist-packages (from tensorboard<2.3.0,>=2.2.0->tensorflow-gpu) (1.6.0.post3)\n",
            "Requirement already satisfied: importlib-metadata; python_version < \"3.8\" in /usr/local/lib/python3.6/dist-packages (from markdown>=2.6.8->tensorboard<2.3.0,>=2.2.0->tensorflow-gpu) (1.6.1)\n",
            "Requirement already satisfied: certifi>=2017.4.17 in /usr/local/lib/python3.6/dist-packages (from requests<3,>=2.21.0->tensorboard<2.3.0,>=2.2.0->tensorflow-gpu) (2020.6.20)\n",
            "Requirement already satisfied: urllib3!=1.25.0,!=1.25.1,<1.26,>=1.21.1 in /usr/local/lib/python3.6/dist-packages (from requests<3,>=2.21.0->tensorboard<2.3.0,>=2.2.0->tensorflow-gpu) (1.24.3)\n",
            "Requirement already satisfied: chardet<4,>=3.0.2 in /usr/local/lib/python3.6/dist-packages (from requests<3,>=2.21.0->tensorboard<2.3.0,>=2.2.0->tensorflow-gpu) (3.0.4)\n",
            "Requirement already satisfied: idna<3,>=2.5 in /usr/local/lib/python3.6/dist-packages (from requests<3,>=2.21.0->tensorboard<2.3.0,>=2.2.0->tensorflow-gpu) (2.9)\n",
            "Requirement already satisfied: pyasn1-modules>=0.2.1 in /usr/local/lib/python3.6/dist-packages (from google-auth<2,>=1.6.3->tensorboard<2.3.0,>=2.2.0->tensorflow-gpu) (0.2.8)\n",
            "Requirement already satisfied: cachetools<5.0,>=2.0.0 in /usr/local/lib/python3.6/dist-packages (from google-auth<2,>=1.6.3->tensorboard<2.3.0,>=2.2.0->tensorflow-gpu) (4.1.0)\n",
            "Requirement already satisfied: rsa<5,>=3.1.4; python_version >= \"3\" in /usr/local/lib/python3.6/dist-packages (from google-auth<2,>=1.6.3->tensorboard<2.3.0,>=2.2.0->tensorflow-gpu) (4.6)\n",
            "Requirement already satisfied: requests-oauthlib>=0.7.0 in /usr/local/lib/python3.6/dist-packages (from google-auth-oauthlib<0.5,>=0.4.1->tensorboard<2.3.0,>=2.2.0->tensorflow-gpu) (1.3.0)\n",
            "Requirement already satisfied: zipp>=0.5 in /usr/local/lib/python3.6/dist-packages (from importlib-metadata; python_version < \"3.8\"->markdown>=2.6.8->tensorboard<2.3.0,>=2.2.0->tensorflow-gpu) (3.1.0)\n",
            "Requirement already satisfied: pyasn1<0.5.0,>=0.4.6 in /usr/local/lib/python3.6/dist-packages (from pyasn1-modules>=0.2.1->google-auth<2,>=1.6.3->tensorboard<2.3.0,>=2.2.0->tensorflow-gpu) (0.4.8)\n",
            "Requirement already satisfied: oauthlib>=3.0.0 in /usr/local/lib/python3.6/dist-packages (from requests-oauthlib>=0.7.0->google-auth-oauthlib<0.5,>=0.4.1->tensorboard<2.3.0,>=2.2.0->tensorflow-gpu) (3.1.0)\n",
            "Installing collected packages: tensorflow-gpu\n",
            "Successfully installed tensorflow-gpu-2.2.0\n",
            "Requirement already satisfied: keras in /usr/local/lib/python3.6/dist-packages (2.3.1)\n",
            "Requirement already satisfied: keras-applications>=1.0.6 in /usr/local/lib/python3.6/dist-packages (from keras) (1.0.8)\n",
            "Requirement already satisfied: h5py in /usr/local/lib/python3.6/dist-packages (from keras) (2.10.0)\n",
            "Requirement already satisfied: keras-preprocessing>=1.0.5 in /usr/local/lib/python3.6/dist-packages (from keras) (1.1.2)\n",
            "Requirement already satisfied: six>=1.9.0 in /usr/local/lib/python3.6/dist-packages (from keras) (1.12.0)\n",
            "Requirement already satisfied: scipy>=0.14 in /usr/local/lib/python3.6/dist-packages (from keras) (1.4.1)\n",
            "Requirement already satisfied: numpy>=1.9.1 in /usr/local/lib/python3.6/dist-packages (from keras) (1.18.5)\n",
            "Requirement already satisfied: pyyaml in /usr/local/lib/python3.6/dist-packages (from keras) (3.13)\n",
            "Requirement already satisfied: requests in /usr/local/lib/python3.6/dist-packages (2.23.0)\n",
            "Requirement already satisfied: idna<3,>=2.5 in /usr/local/lib/python3.6/dist-packages (from requests) (2.9)\n",
            "Requirement already satisfied: chardet<4,>=3.0.2 in /usr/local/lib/python3.6/dist-packages (from requests) (3.0.4)\n",
            "Requirement already satisfied: certifi>=2017.4.17 in /usr/local/lib/python3.6/dist-packages (from requests) (2020.6.20)\n",
            "Requirement already satisfied: urllib3!=1.25.0,!=1.25.1,<1.26,>=1.21.1 in /usr/local/lib/python3.6/dist-packages (from requests) (1.24.3)\n"
          ],
          "name": "stdout"
        }
      ]
    },
    {
      "cell_type": "markdown",
      "metadata": {
        "id": "Fj3sZzNZyqzG",
        "colab_type": "text"
      },
      "source": [
        "Needed classes for imports"
      ]
    },
    {
      "cell_type": "markdown",
      "metadata": {
        "id": "rXRHeo3Cy7XR",
        "colab_type": "text"
      },
      "source": [
        "cleanup.py"
      ]
    },
    {
      "cell_type": "code",
      "metadata": {
        "id": "S0hVox5sytjw",
        "colab_type": "code",
        "colab": {
          "base_uri": "https://localhost:8080/",
          "height": 51
        },
        "outputId": "7cd50e55-518f-49d8-e28c-03471367e6f2"
      },
      "source": [
        "import re\n",
        "import string\n",
        "from typing import List\n",
        "import nltk\n",
        "from nltk import SnowballStemmer\n",
        "from nltk.corpus import stopwords\n",
        "nltk.download('stopwords')\n",
        "\n",
        "def clean_text(tweets: List[str], lang: str = 'english') -> List[str]:\n",
        "    \"\"\"\n",
        "    performes stemming and other \"cleanup\"\n",
        "    :param tweets:\n",
        "    :param lang:\n",
        "    :return:\n",
        "    \"\"\"\n",
        "\n",
        "    data: List[str] = tweets\n",
        "    cleaned_text = []\n",
        "    stops = set(stopwords.words(lang))\n",
        "\n",
        "    # no ! and .\n",
        "    table = str.maketrans(dict.fromkeys(\"\"\"\"#$%&()*+,-/:;<=>?@[\\\\]^_`{|}~\"\"\"))\n",
        "\n",
        "    for text in data:\n",
        "        text = re.sub(r'https?://[^\\s]*', ' tokenlink ', text)\n",
        "        text = re.sub(r'\\.\\.\\.', ' tokendotdotdot ', text)\n",
        "        text = re.sub(r'xD', ' tokenxd ', text)\n",
        "        text = re.sub(r':\\)', ' tokenxbrackethappy ', text)\n",
        "        text = re.sub(r':\\(', ' tokenxbracketsad ', text)\n",
        "        text = re.sub(r':-\\)', ' tokennosehappy ', text)\n",
        "        text = re.sub(r':-\\(', ' tokennosesad ', text)\n",
        "        text = re.sub(r':D', ' tokenxcheer ', text)\n",
        "        text = re.sub(r':-S', ' tokens ', text)\n",
        "\n",
        "\n",
        "        ## Convert words to lower case and split them\n",
        "        text = text.lower().split()\n",
        "\n",
        "        text = \" \".join(text)\n",
        "\n",
        "        # Clean the text\n",
        "        text = re.sub(r\"(?<!\\.)\\.(?!\\.)\", \" \", text)\n",
        "        text = re.sub(r\"[^A-Za-z0-9^,!./'+-=]\", \" \", text)\n",
        "        text = re.sub(r\"what's\", \"what is \", text)\n",
        "        text = re.sub(r\"\\'s\", \" \", text)\n",
        "        text = re.sub(r\"\\'ve\", \" have \", text)\n",
        "        text = re.sub(r\"n't\", \" not \", text)\n",
        "        text = re.sub(r\"i'm\", \"i am \", text)\n",
        "        text = re.sub(r\"\\'re\", \" are \", text)\n",
        "        text = re.sub(r\"\\'d\", \" would \", text)\n",
        "        text = re.sub(r\"\\'ll\", \" will \", text)\n",
        "        text = re.sub(r\",\", \" \", text)\n",
        "        text = re.sub(r\"\\.\", \" \", text)\n",
        "        text = re.sub(r\"!\", \" ! \", text)\n",
        "        text = re.sub(r\"/\", \" \", text)\n",
        "        text = re.sub(r\"\\^\", \" ^ \", text)\n",
        "        text = re.sub(r\"\\+\", \" + \", text)\n",
        "        text = re.sub(r\"-\", \" - \", text)\n",
        "        text = re.sub(r\"=\", \" = \", text)\n",
        "        text = re.sub(r\"'\", \" \", text)\n",
        "        text = re.sub(r\"(\\d+)(k)\", r\"\\g<1>000\", text)\n",
        "        text = re.sub(r\":\", \" : \", text)\n",
        "        text = re.sub(r\" e g \", \" eg \", text)\n",
        "        text = re.sub(r\" b g \", \" bg \", text)\n",
        "        text = re.sub(r\" u s \", \" american \", text)\n",
        "        text = re.sub(r\"\\0s\", \"0\", text)\n",
        "        text = re.sub(r\" 9 11 \", \"911\", text)\n",
        "        text = re.sub(r\"e - mail\", \"email\", text)\n",
        "        text = re.sub(r\"j k\", \"jk\", text)\n",
        "        text = re.sub(r\"\\s{2,}\", \" \", text)\n",
        "\n",
        "        ## Remove puncuation\n",
        "        text = text.translate(table)\n",
        "\n",
        "        text = text.split()\n",
        "\n",
        "        ## Remove stop words[^\\s][^\\s]\n",
        "        #text = [w for w in text if not w in stops]\n",
        "\n",
        "        stemmer = SnowballStemmer(lang)\n",
        "        stemmed_words = [stemmer.stem(word) for word in text]\n",
        "        text = \" \".join(stemmed_words)\n",
        "        cleaned_text.append(text)\n",
        "\n",
        "    return cleaned_text"
      ],
      "execution_count": null,
      "outputs": [
        {
          "output_type": "stream",
          "text": [
            "[nltk_data] Downloading package stopwords to /root/nltk_data...\n",
            "[nltk_data]   Package stopwords is already up-to-date!\n"
          ],
          "name": "stdout"
        }
      ]
    },
    {
      "cell_type": "markdown",
      "metadata": {
        "id": "GsPd_IYrzGMo",
        "colab_type": "text"
      },
      "source": [
        "NBT.py"
      ]
    },
    {
      "cell_type": "code",
      "metadata": {
        "id": "V0WnSny-6nND",
        "colab_type": "code",
        "colab": {
          "resources": {
            "http://localhost:8080/nbextensions/google.colab/files.js": {
              "data": "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",
              "ok": true,
              "headers": [
                [
                  "content-type",
                  "application/javascript"
                ]
              ],
              "status": 200,
              "status_text": ""
            }
          },
          "base_uri": "https://localhost:8080/",
          "height": 127
        },
        "outputId": "a8161d6f-c666-4174-8562-96d8edecd5fa"
      },
      "source": [
        "from google.colab import files\n",
        "amazon_Surf_L10_mat = files.upload()\n",
        "dslr_Surf_L10_mat = files.upload()"
      ],
      "execution_count": null,
      "outputs": [
        {
          "output_type": "display_data",
          "data": {
            "text/html": [
              "\n",
              "     <input type=\"file\" id=\"files-be59abf3-ce08-4d33-a3ec-7e7fb8232cdb\" name=\"files[]\" multiple disabled\n",
              "        style=\"border:none\" />\n",
              "     <output id=\"result-be59abf3-ce08-4d33-a3ec-7e7fb8232cdb\">\n",
              "      Upload widget is only available when the cell has been executed in the\n",
              "      current browser session. Please rerun this cell to enable.\n",
              "      </output>\n",
              "      <script src=\"/nbextensions/google.colab/files.js\"></script> "
            ],
            "text/plain": [
              "<IPython.core.display.HTML object>"
            ]
          },
          "metadata": {
            "tags": []
          }
        },
        {
          "output_type": "stream",
          "text": [
            "Saving amazon_SURF_L10.mat to amazon_SURF_L10.mat\n"
          ],
          "name": "stdout"
        },
        {
          "output_type": "display_data",
          "data": {
            "text/html": [
              "\n",
              "     <input type=\"file\" id=\"files-0d3b69a2-7b00-4749-8061-00b552e8dbcb\" name=\"files[]\" multiple disabled\n",
              "        style=\"border:none\" />\n",
              "     <output id=\"result-0d3b69a2-7b00-4749-8061-00b552e8dbcb\">\n",
              "      Upload widget is only available when the cell has been executed in the\n",
              "      current browser session. Please rerun this cell to enable.\n",
              "      </output>\n",
              "      <script src=\"/nbextensions/google.colab/files.js\"></script> "
            ],
            "text/plain": [
              "<IPython.core.display.HTML object>"
            ]
          },
          "metadata": {
            "tags": []
          }
        },
        {
          "output_type": "stream",
          "text": [
            "Saving dslr_SURF_L10.mat to dslr_SURF_L10.mat\n"
          ],
          "name": "stdout"
        }
      ]
    },
    {
      "cell_type": "code",
      "metadata": {
        "id": "MzwORX2szK88",
        "colab_type": "code",
        "colab": {
          "base_uri": "https://localhost:8080/",
          "height": 156
        },
        "outputId": "3213f694-2968-4fa3-8979-3e9b84c171f0"
      },
      "source": [
        "import numpy as np\n",
        "from sklearn import preprocessing\n",
        "from sklearn.neighbors import KNeighborsClassifier\n",
        "class NBT():\n",
        "    \"\"\"\n",
        "    Nyström Basis Transfer Service Class\n",
        "    Published in:\n",
        "    Christoph Raab, Frank-Michael Schleif,\n",
        "    Transfer learning extensions for the probabilistic classification vector machine,Neurocomputing,2019,\n",
        "    https://doi.org/10.1016/j.neucom.2019.09.104.\n",
        "    Functions\n",
        "    ----------\n",
        "    nys_basis_transfer: Transfer Basis from Target to Source Domain.\n",
        "    data_augmentation: Augmentation of data by removing or upsampling of source data\n",
        "    Examples\n",
        "    --------\n",
        "    >>> #Imports\n",
        "    >>> import os\n",
        "    >>> import scipy.io as sio\n",
        "    >>> from sklearn.svm import SVC\n",
        "    >>> os.chdir(os.path.dirname(os.path.abspath(__file__)))\n",
        "    >>> os.chdir(os.path.join(\"datasets\",\"domain_adaptation\",\"features\",\"OfficeCaltech\"))\n",
        "    >>> amazon = sio.loadmat(\"amazon_SURF_L10.mat\")\n",
        "    >>> X = preprocessing.scale(np.asarray(amazon[\"fts\"]))\n",
        "    >>> Yt = np.asarray(amazon[\"labels\"])\n",
        "    >>>\n",
        "    >>> dslr = sio.loadmat(\"dslr_SURF_L10.mat\")\n",
        "    >>>\n",
        "    >>> Z = preprocessing.scale(np.asarray(dslr[\"fts\"]))\n",
        "    >>> Ys = np.asarray(dslr[\"labels\"])\n",
        "    >>>\n",
        "    >>> clf = SVC(gamma=1,C=10)\n",
        "    >>> clf.fit(Z,Ys)\n",
        "    >>> print(\"SVM: \"+str(clf.score(X,Yt)))\n",
        "    >>>\n",
        "    >>> nbt = NBT()\n",
        "    >>> Ys,Z = nbt.data_augmentation(Z,X.shape[0],Ys)\n",
        "    >>> X,Z = nbt.nys_basis_transfer(X,Z,Ys.flatten(),landmarks=100)\n",
        "    >>> clf = SVC(gamma=1,C=10)\n",
        "    >>> clf.fit(Z,Ys)\n",
        "    >>> print(\"SVM + NBT: \"+str(clf.score(X,Yt)))\n",
        "    \"\"\"\n",
        "\n",
        "    def __init__(self,landmarks=10):\n",
        "        self.landmarks = landmarks\n",
        "        pass\n",
        "\n",
        "    def nys_basis_transfer(self,X,Z,Ys=None):\n",
        "        \"\"\"\n",
        "        Nyström Basis Transfer\n",
        "        Transfers Basis of X to Z obtained by Nyström SVD\n",
        "        Implicit dimensionality reduction\n",
        "        Applications in domain adaptation or transfer learning\n",
        "        Parameters.\n",
        "        Note target,source are order sensitiv.\n",
        "        ----------\n",
        "        X : Target Matrix, where classifier is trained on\n",
        "        Z : Source Matrix, where classifier is trained on\n",
        "        Ys: Source data label, if none, classwise sampling is not applied.\n",
        "        landmarks : Positive integer as number of landmarks\n",
        "        Returns\n",
        "        ----------\n",
        "        X : Reduced Target Matrix\n",
        "        Z : Reduced approximated Source Matrix\n",
        "        \"\"\"\n",
        "        if type(X) is not np.ndarray or type(Z) is not np.ndarray:\n",
        "            raise ValueError(\"Numpy Arrays must be given!\")\n",
        "        if type(self.landmarks ) is not int or self.landmarks  < 1:\n",
        "            raise ValueError(\"Positive integer number must given!\")\n",
        "        landmarks = np.min([X.shape[0]]+[Z.shape[0]]+[self.landmarks ])\n",
        "        max_idx = np.min(list(X.shape)+list(Z.shape))\n",
        "        idx = np.random.randint(0,max_idx-1,landmarks)\n",
        "        A = X[np.ix_(idx,idx)]\n",
        "        # B = X[0:landmarks,landmarks:]\n",
        "        F = X[landmarks:,0:landmarks]\n",
        "        #C = X[landmarks:,landmarks:]\n",
        "        U, S, H = np.linalg.svd(A, full_matrices=True)\n",
        "        S = np.diag(S)\n",
        "\n",
        "        U_k = np.concatenate([U,(F @H )@np.linalg.pinv(S)])\n",
        "        #V_k = np.concatenate([H, np.matmul(np.matmul(B.T,U),np.linalg.pinv(S))])\n",
        "        X = U_k @S\n",
        "\n",
        "        if type(Ys) is np.ndarray:\n",
        "            A = self.classwise_sampling(Z,Ys,landmarks)\n",
        "        else:\n",
        "            A = Z[np.ix_(idx,idx)]\n",
        "\n",
        "        D = np.linalg.svd(A, full_matrices=True,compute_uv=False)\n",
        "        Z = U_k @ np.diag(D)\n",
        "        return preprocessing.scale(X),preprocessing.scale(Z)\n",
        "\n",
        "    def classwise_sampling(self,X,Y,n_landmarks):\n",
        "\n",
        "        A = []\n",
        "        classes = np.unique(Y)\n",
        "        c_classes = classes.size\n",
        "        samples_per_class = int(n_landmarks / c_classes)\n",
        "        for c in classes:\n",
        "            class_data = X[np.where(c == Y)]\n",
        "\n",
        "            if samples_per_class > class_data.shape[0]:\n",
        "                A = A+list(class_data)\n",
        "            else:\n",
        "                A = A+list(class_data[np.random.randint(0,class_data.shape[0],samples_per_class)])\n",
        "\n",
        "        return np.array(A)\n",
        "\n",
        "    def basis_transfer(self,X,Z):\n",
        "        \"\"\"\n",
        "         Basis Transfer\n",
        "        Transfers Basis of X to Z obtained by Nyström SVD\n",
        "        Applications in domain adaptation or transfer learning\n",
        "        Parameters.\n",
        "        Note target,source are order sensitiv.\n",
        "        ----------\n",
        "        X : Target Matrix, where classifier is trained on\n",
        "        Z : Source Matrix, where classifier is trained on\n",
        "        Returns\n",
        "        ----------\n",
        "        Z : Transferred Source Matrix\n",
        "        \"\"\"\n",
        "        L,S,R = np.linalg.svd(X,full_matrices=False);\n",
        "        D = np.linalg.svd(Z,compute_uv=False,full_matrices=False)\n",
        "        return L @ np.diag(D) @ R\n",
        "\n",
        "    def fit_predict(self, Xs, Ys, Xt, Yt):\n",
        "        '''\n",
        "        Fit and use 1NN to classify\n",
        "        :param Xs: ns * n_feature, source feature\n",
        "        :param Ys: ns * 1, source label\n",
        "        :param Xt: nt * n_feature, target feature\n",
        "        :param Yt: nt * 1, target label\n",
        "        :return: Accuracy, predicted labels of target domain, and G\n",
        "        '''\n",
        "        clf = KNeighborsClassifier(n_neighbors=1)\n",
        "        clf.fit(Xs, Ys.ravel())\n",
        "        y_pred = clf.predict(Xt)\n",
        "        acc = np.mean(y_pred == Yt.ravel())\n",
        "        return acc, y_pred\n",
        "\n",
        "\n",
        "    def data_augmentation(self,Z,required_size,Y):\n",
        "        \"\"\"\n",
        "        Data Augmentation\n",
        "        Upsampling if Z smaller as required_size via multivariate gaussian mixture\n",
        "        Downsampling if Z greater as required_size via uniform removal\n",
        "        Note both are class-wise with goal to harmonize class counts\n",
        "        ----------\n",
        "        Z : Matrix, where classifier is trained on\n",
        "        required_size : Size to which Z is reduced or extended\n",
        "        Y : Label vector, which is reduced or extended like Z\n",
        "        Returns\n",
        "        ----------\n",
        "        X : Augmented Z\n",
        "        Z : Augmented Y\n",
        "        \"\"\"\n",
        "        if type(Z) is not np.ndarray or type(required_size) is not int or type(Y) is not np.ndarray:\n",
        "            raise ValueError(\"Numpy Arrays must be given!\")\n",
        "        if Z.shape[0] == required_size:\n",
        "            return Y,Z\n",
        "        \n",
        "        _, idx = np.unique(Y, return_index=True)\n",
        "        C = Y[np.sort(idx)].flatten().tolist()\n",
        "        size_c = len(C)\n",
        "        if Z.shape[0] < required_size:\n",
        "            print(\"Source smaller target\")\n",
        "            data = np.empty((0,Z.shape[1]))\n",
        "            label = np.empty((0,1))\n",
        "            diff = required_size - Z.shape[0]\n",
        "            sample_size = int(np.floor(diff/size_c))\n",
        "            for c in C:\n",
        "                #indexes = np.where(Y[Y==c])\n",
        "                indexes =  np.where(Y==c)\n",
        "                class_data = Z[indexes,:][0]\n",
        "                m = np.mean(class_data,0) \n",
        "                sd = np.var(class_data,0)\n",
        "                sample_size = sample_size if c !=C[-1] else sample_size+np.mod(diff,size_c)\n",
        "                augmentation_data =np.vstack([np.random.normal(m, sd, size=len(m)) for i in range(sample_size)])\n",
        "                data =np.concatenate([data,class_data,augmentation_data])\n",
        "                label = np.concatenate([label,np.ones((class_data.shape[0]+sample_size,1))*c])\n",
        "            \n",
        "        if Z.shape[0] > required_size:\n",
        "            print(\"Source greater target\")\n",
        "            data = np.empty((0,Z.shape[1]))\n",
        "            label = np.empty((0,1))\n",
        "            sample_size = int(np.floor(required_size/size_c))\n",
        "            for c in C:\n",
        "                indexes = np.where(Y[Y==c])[0]\n",
        "                class_data = Z[indexes,:]\n",
        "                if len(indexes) > sample_size:\n",
        "                    sample_size = sample_size if c !=C[-1] else np.abs(data.shape[0]-required_size)\n",
        "                    y = np.random.choice(class_data.shape[0],sample_size)\n",
        "                    class_data = class_data[y,:]\n",
        "                data =np.concatenate([data,class_data])\n",
        "                label = np.concatenate([label,np.ones((class_data.shape[0],1))*c])\n",
        "        Z = data\n",
        "        Y = label\n",
        "        return Y,Z\n",
        "\n",
        "if __name__ == \"__main__\":\n",
        "\n",
        "    import os\n",
        "    import scipy.io as sio\n",
        "    from sklearn.svm import SVC\n",
        "\n",
        "    # Load and preprocessing of data. Note normalization to N(0,1) is necessary.\n",
        "    # not needed files were directly accessed\n",
        "    # os.chdir(\"datasets/domain_adaptation/OfficeCaltech/features/Surf\")\n",
        "    amazon = sio.loadmat(\"amazon_SURF_L10.mat\")\n",
        "    X = preprocessing.scale(np.asarray(amazon[\"fts\"]))\n",
        "    Yt = np.asarray(amazon[\"labels\"])\n",
        "\n",
        "    dslr = sio.loadmat(\"dslr_SURF_L10.mat\")\n",
        "\n",
        "    Z = preprocessing.scale(np.asarray(dslr[\"fts\"]))\n",
        "    Ys = np.asarray(dslr[\"labels\"])\n",
        "\n",
        "    # Applying SVM without transfer learning. Accuracy should be about 10%\n",
        "    clf = SVC(gamma=1,C=10)\n",
        "    clf.fit(Z,Ys)\n",
        "    print(\"SVM without transfer \"+str(clf.score(X,Yt)))\n",
        "\n",
        "    # Beginning of NBT. Accuracy of SVM + NBT should be about 90%\n",
        "    nbt = NBT(landmarks=100)\n",
        "    # Data augmentation is necessary if Z and X have different shapes.\n",
        "    Ys,Z = nbt.data_augmentation(Z,X.shape[0],Ys)\n",
        "    X,Z = nbt.nys_basis_transfer(X,Z,Ys.flatten())\n",
        "    clf = SVC(gamma=1,C=10)\n",
        "    clf.fit(Z,Ys)\n",
        "    print(\"SVM + NBT: \"+str(clf.score(X,Yt)))"
      ],
      "execution_count": null,
      "outputs": [
        {
          "output_type": "stream",
          "text": [
            "/usr/local/lib/python3.6/dist-packages/sklearn/utils/validation.py:760: DataConversionWarning: A column-vector y was passed when a 1d array was expected. Please change the shape of y to (n_samples, ), for example using ravel().\n",
            "  y = column_or_1d(y, warn=True)\n"
          ],
          "name": "stderr"
        },
        {
          "output_type": "stream",
          "text": [
            "SVM without transfer 0.10438413361169102\n",
            "Source smaller target\n"
          ],
          "name": "stdout"
        },
        {
          "output_type": "stream",
          "text": [
            "/usr/local/lib/python3.6/dist-packages/sklearn/utils/validation.py:760: DataConversionWarning: A column-vector y was passed when a 1d array was expected. Please change the shape of y to (n_samples, ), for example using ravel().\n",
            "  y = column_or_1d(y, warn=True)\n"
          ],
          "name": "stderr"
        },
        {
          "output_type": "stream",
          "text": [
            "SVM + NBT: 0.9311064718162839\n"
          ],
          "name": "stdout"
        }
      ]
    },
    {
      "cell_type": "markdown",
      "metadata": {
        "id": "pC8Inwh1Uqer",
        "colab_type": "text"
      },
      "source": [
        "Download Datasets"
      ]
    },
    {
      "cell_type": "markdown",
      "metadata": {
        "id": "cIzHvxVb-7RK",
        "colab_type": "text"
      },
      "source": [
        "Tweets.csv Dataset to big |\n",
        "Test if sentqs_dataset.npz works"
      ]
    },
    {
      "cell_type": "code",
      "metadata": {
        "id": "MOQOleJwUsFt",
        "colab_type": "code",
        "colab": {
          "base_uri": "https://localhost:8080/",
          "height": 51
        },
        "outputId": "e12da154-7ac0-41d5-85b3-f3b55b581d2c"
      },
      "source": [
        "import requests\n",
        "import sys\n",
        "\n",
        "#Download Links\n",
        "\n",
        "linkTweets = \"https://raw.githubusercontent.com/ChristophRaab/NASDAQ-Dataset/master/Tweets.csv\"\n",
        "file_nameT = \"Tweets.csv\"\n",
        "link = \"https://cloud.fhws.de/index.php/s/M4rkbHj9FfW6YKo/download\"\n",
        "file_name = \"sentqs_dataset.npz\"\n",
        "# linkGlove = \"https://www.kaggle.com/fullmetal26/glovetwitter27b100dtxt/download\" --> still has to be unzipped\n",
        "# file_nameG = \"glove.twitter.27B.200d.txt\"\n",
        "# linkDataset = \"https://cloud.fhws.de/index.php/s/M4rkbHj9FfW6YKo/download\"\n",
        "# file_nameD = sentqs_dataset.npz\n",
        "\n",
        "rT = requests.get(linkTweets, allow_redirects=True)\n",
        "open(file_nameT, 'wb').write(rT.content)\n",
        "\n",
        "with open(file_name, \"wb\") as f:\n",
        "            print(\"Downloading %s\" % file_name)\n",
        "            response = requests.get(link, stream=True)\n",
        "            total_length = response.headers.get('content-length')\n",
        "\n",
        "            if total_length is None: # no content length header\n",
        "                f.write(response.content)\n",
        "            else:\n",
        "                dl = 0\n",
        "                total_length = int(total_length)\n",
        "                for data in response.iter_content(chunk_size=4096):\n",
        "                    dl += len(data)\n",
        "                    f.write(data)\n",
        "                    done = int(50 * dl / total_length)\n",
        "                    sys.stdout.write(\"\\r[%s%s]\" % ('=' * done, ' ' * (50-done)) )\n",
        "                    sys.stdout.flush()\n",
        "\n",
        "# !wget https://www.kaggle.com/fullmetal26/glovetwitter27b100dtxt/download\n",
        "# !unzip glove.twitter.27B.200d.txt.zip\n",
        "# rG = requests.get(linkGlove, allow_redirects=True)\n",
        "# open(file_nameG, 'wb').write(rG.content)"
      ],
      "execution_count": null,
      "outputs": [
        {
          "output_type": "stream",
          "text": [
            "Downloading sentqs_dataset.npz\n",
            "\r[==================================================]"
          ],
          "name": "stdout"
        }
      ]
    },
    {
      "cell_type": "markdown",
      "metadata": {
        "id": "YW9yFrNaZ6-C",
        "colab_type": "text"
      },
      "source": [
        "Only for testing: Glove.txt"
      ]
    },
    {
      "cell_type": "code",
      "metadata": {
        "id": "6JgZtibqZ5yS",
        "colab_type": "code",
        "colab": {
          "resources": {
            "http://localhost:8080/nbextensions/google.colab/files.js": {
              "data": "Ly8gQ29weXJpZ2h0IDIwMTcgR29vZ2xlIExMQwovLwovLyBMaWNlbnNlZCB1bmRlciB0aGUgQXBhY2hlIExpY2Vuc2UsIFZlcnNpb24gMi4wICh0aGUgIkxpY2Vuc2UiKTsKLy8geW91IG1heSBub3QgdXNlIHRoaXMgZmlsZSBleGNlcHQgaW4gY29tcGxpYW5jZSB3aXRoIHRoZSBMaWNlbnNlLgovLyBZb3UgbWF5IG9idGFpbiBhIGNvcHkgb2YgdGhlIExpY2Vuc2UgYXQKLy8KLy8gICAgICBodHRwOi8vd3d3LmFwYWNoZS5vcmcvbGljZW5zZXMvTElDRU5TRS0yLjAKLy8KLy8gVW5sZXNzIHJlcXVpcmVkIGJ5IGFwcGxpY2FibGUgbGF3IG9yIGFncmVlZCB0byBpbiB3cml0aW5nLCBzb2Z0d2FyZQovLyBkaXN0cmlidXRlZCB1bmRlciB0aGUgTGljZW5zZSBpcyBkaXN0cmlidXRlZCBvbiBhbiAiQVMgSVMiIEJBU0lTLAovLyBXSVRIT1VUIFdBUlJBTlRJRVMgT1IgQ09ORElUSU9OUyBPRiBBTlkgS0lORCwgZWl0aGVyIGV4cHJlc3Mgb3IgaW1wbGllZC4KLy8gU2VlIHRoZSBMaWNlbnNlIGZvciB0aGUgc3BlY2lmaWMgbGFuZ3VhZ2UgZ292ZXJuaW5nIHBlcm1pc3Npb25zIGFuZAovLyBsaW1pdGF0aW9ucyB1bmRlciB0aGUgTGljZW5zZS4KCi8qKgogKiBAZmlsZW92ZXJ2aWV3IEhlbHBlcnMgZm9yIGdvb2dsZS5jb2xhYiBQeXRob24gbW9kdWxlLgogKi8KKGZ1bmN0aW9uKHNjb3BlKSB7CmZ1bmN0aW9uIHNwYW4odGV4dCwgc3R5bGVBdHRyaWJ1dGVzID0ge30pIHsKICBjb25zdCBlbGVtZW50ID0gZG9jdW1lbnQuY3JlYXRlRWxlbWVudCgnc3BhbicpOwogIGVsZW1lbnQudGV4dENvbnRlbnQgPSB0ZXh0OwogIGZvciAoY29uc3Qga2V5IG9mIE9iamVjdC5rZXlzKHN0eWxlQXR0cmlidXRlcykpIHsKICAgIGVsZW1lbnQuc3R5bGVba2V5XSA9IHN0eWxlQXR0cmlidXRlc1trZXldOwogIH0KICByZXR1cm4gZWxlbWVudDsKfQoKLy8gTWF4IG51bWJlciBvZiBieXRlcyB3aGljaCB3aWxsIGJlIHVwbG9hZGVkIGF0IGEgdGltZS4KY29uc3QgTUFYX1BBWUxPQURfU0laRSA9IDEwMCAqIDEwMjQ7CgpmdW5jdGlvbiBfdXBsb2FkRmlsZXMoaW5wdXRJZCwgb3V0cHV0SWQpIHsKICBjb25zdCBzdGVwcyA9IHVwbG9hZEZpbGVzU3RlcChpbnB1dElkLCBvdXRwdXRJZCk7CiAgY29uc3Qgb3V0cHV0RWxlbWVudCA9IGRvY3VtZW50LmdldEVsZW1lbnRCeUlkKG91dHB1dElkKTsKICAvLyBDYWNoZSBzdGVwcyBvbiB0aGUgb3V0cHV0RWxlbWVudCB0byBtYWtlIGl0IGF2YWlsYWJsZSBmb3IgdGhlIG5leHQgY2FsbAogIC8vIHRvIHVwbG9hZEZpbGVzQ29udGludWUgZnJvbSBQeXRob24uCiAgb3V0cHV0RWxlbWVudC5zdGVwcyA9IHN0ZXBzOwoKICByZXR1cm4gX3VwbG9hZEZpbGVzQ29udGludWUob3V0cHV0SWQpOwp9CgovLyBUaGlzIGlzIHJvdWdobHkgYW4gYXN5bmMgZ2VuZXJhdG9yIChub3Qgc3VwcG9ydGVkIGluIHRoZSBicm93c2VyIHlldCksCi8vIHdoZXJlIHRoZXJlIGFyZSBtdWx0aXBsZSBhc3luY2hyb25vdXMgc3RlcHMgYW5kIHRoZSBQeXRob24gc2lkZSBpcyBnb2luZwovLyB0byBwb2xsIGZvciBjb21wbGV0aW9uIG9mIGVhY2ggc3RlcC4KLy8gVGhpcyB1c2VzIGEgUHJvbWlzZSB0byBibG9jayB0aGUgcHl0aG9uIHNpZGUgb24gY29tcGxldGlvbiBvZiBlYWNoIHN0ZXAsCi8vIHRoZW4gcGFzc2VzIHRoZSByZXN1bHQgb2YgdGhlIHByZXZpb3VzIHN0ZXAgYXMgdGhlIGlucHV0IHRvIHRoZSBuZXh0IHN0ZXAuCmZ1bmN0aW9uIF91cGxvYWRGaWxlc0NvbnRpbnVlKG91dHB1dElkKSB7CiAgY29uc3Qgb3V0cHV0RWxlbWVudCA9IGRvY3VtZW50LmdldEVsZW1lbnRCeUlkKG91dHB1dElkKTsKICBjb25zdCBzdGVwcyA9IG91dHB1dEVsZW1lbnQuc3RlcHM7CgogIGNvbnN0IG5leHQgPSBzdGVwcy5uZXh0KG91dHB1dEVsZW1lbnQubGFzdFByb21pc2VWYWx1ZSk7CiAgcmV0dXJuIFByb21pc2UucmVzb2x2ZShuZXh0LnZhbHVlLnByb21pc2UpLnRoZW4oKHZhbHVlKSA9PiB7CiAgICAvLyBDYWNoZSB0aGUgbGFzdCBwcm9taXNlIHZhbHVlIHRvIG1ha2UgaXQgYXZhaWxhYmxlIHRvIHRoZSBuZXh0CiAgICAvLyBzdGVwIG9mIHRoZSBnZW5lcmF0b3IuCiAgICBvdXRwdXRFbGVtZW50Lmxhc3RQcm9taXNlVmFsdWUgPSB2YWx1ZTsKICAgIHJldHVybiBuZXh0LnZhbHVlLnJlc3BvbnNlOwogIH0pOwp9CgovKioKICogR2VuZXJhdG9yIGZ1bmN0aW9uIHdoaWNoIGlzIGNhbGxlZCBiZXR3ZWVuIGVhY2ggYXN5bmMgc3RlcCBvZiB0aGUgdXBsb2FkCiAqIHByb2Nlc3MuCiAqIEBwYXJhbSB7c3RyaW5nfSBpbnB1dElkIEVsZW1lbnQgSUQgb2YgdGhlIGlucHV0IGZpbGUgcGlja2VyIGVsZW1lbnQuCiAqIEBwYXJhbSB7c3RyaW5nfSBvdXRwdXRJZCBFbGVtZW50IElEIG9mIHRoZSBvdXRwdXQgZGlzcGxheS4KICogQHJldHVybiB7IUl0ZXJhYmxlPCFPYmplY3Q+fSBJdGVyYWJsZSBvZiBuZXh0IHN0ZXBzLgogKi8KZnVuY3Rpb24qIHVwbG9hZEZpbGVzU3RlcChpbnB1dElkLCBvdXRwdXRJZCkgewogIGNvbnN0IGlucHV0RWxlbWVudCA9IGRvY3VtZW50LmdldEVsZW1lbnRCeUlkKGlucHV0SWQpOwogIGlucHV0RWxlbWVudC5kaXNhYmxlZCA9IGZhbHNlOwoKICBjb25zdCBvdXRwdXRFbGVtZW50ID0gZG9jdW1lbnQuZ2V0RWxlbWVudEJ5SWQob3V0cHV0SWQpOwogIG91dHB1dEVsZW1lbnQuaW5uZXJIVE1MID0gJyc7CgogIGNvbnN0IHBpY2tlZFByb21pc2UgPSBuZXcgUHJvbWlzZSgocmVzb2x2ZSkgPT4gewogICAgaW5wdXRFbGVtZW50LmFkZEV2ZW50TGlzdGVuZXIoJ2NoYW5nZScsIChlKSA9PiB7CiAgICAgIHJlc29sdmUoZS50YXJnZXQuZmlsZXMpOwogICAgfSk7CiAgfSk7CgogIGNvbnN0IGNhbmNlbCA9IGRvY3VtZW50LmNyZWF0ZUVsZW1lbnQoJ2J1dHRvbicpOwogIGlucHV0RWxlbWVudC5wYXJlbnRFbGVtZW50LmFwcGVuZENoaWxkKGNhbmNlbCk7CiAgY2FuY2VsLnRleHRDb250ZW50ID0gJ0NhbmNlbCB1cGxvYWQnOwogIGNvbnN0IGNhbmNlbFByb21pc2UgPSBuZXcgUHJvbWlzZSgocmVzb2x2ZSkgPT4gewogICAgY2FuY2VsLm9uY2xpY2sgPSAoKSA9PiB7CiAgICAgIHJlc29sdmUobnVsbCk7CiAgICB9OwogIH0pOwoKICAvLyBXYWl0IGZvciB0aGUgdXNlciB0byBwaWNrIHRoZSBmaWxlcy4KICBjb25zdCBmaWxlcyA9IHlpZWxkIHsKICAgIHByb21pc2U6IFByb21pc2UucmFjZShbcGlja2VkUHJvbWlzZSwgY2FuY2VsUHJvbWlzZV0pLAogICAgcmVzcG9uc2U6IHsKICAgICAgYWN0aW9uOiAnc3RhcnRpbmcnLAogICAgfQogIH07CgogIGNhbmNlbC5yZW1vdmUoKTsKCiAgLy8gRGlzYWJsZSB0aGUgaW5wdXQgZWxlbWVudCBzaW5jZSBmdXJ0aGVyIHBpY2tzIGFyZSBub3QgYWxsb3dlZC4KICBpbnB1dEVsZW1lbnQuZGlzYWJsZWQgPSB0cnVlOwoKICBpZiAoIWZpbGVzKSB7CiAgICByZXR1cm4gewogICAgICByZXNwb25zZTogewogICAgICAgIGFjdGlvbjogJ2NvbXBsZXRlJywKICAgICAgfQogICAgfTsKICB9CgogIGZvciAoY29uc3QgZmlsZSBvZiBmaWxlcykgewogICAgY29uc3QgbGkgPSBkb2N1bWVudC5jcmVhdGVFbGVtZW50KCdsaScpOwogICAgbGkuYXBwZW5kKHNwYW4oZmlsZS5uYW1lLCB7Zm9udFdlaWdodDogJ2JvbGQnfSkpOwogICAgbGkuYXBwZW5kKHNwYW4oCiAgICAgICAgYCgke2ZpbGUudHlwZSB8fCAnbi9hJ30pIC0gJHtmaWxlLnNpemV9IGJ5dGVzLCBgICsKICAgICAgICBgbGFzdCBtb2RpZmllZDogJHsKICAgICAgICAgICAgZmlsZS5sYXN0TW9kaWZpZWREYXRlID8gZmlsZS5sYXN0TW9kaWZpZWREYXRlLnRvTG9jYWxlRGF0ZVN0cmluZygpIDoKICAgICAgICAgICAgICAgICAgICAgICAgICAgICAgICAgICAgJ24vYSd9IC0gYCkpOwogICAgY29uc3QgcGVyY2VudCA9IHNwYW4oJzAlIGRvbmUnKTsKICAgIGxpLmFwcGVuZENoaWxkKHBlcmNlbnQpOwoKICAgIG91dHB1dEVsZW1lbnQuYXBwZW5kQ2hpbGQobGkpOwoKICAgIGNvbnN0IGZpbGVEYXRhUHJvbWlzZSA9IG5ldyBQcm9taXNlKChyZXNvbHZlKSA9PiB7CiAgICAgIGNvbnN0IHJlYWRlciA9IG5ldyBGaWxlUmVhZGVyKCk7CiAgICAgIHJlYWRlci5vbmxvYWQgPSAoZSkgPT4gewogICAgICAgIHJlc29sdmUoZS50YXJnZXQucmVzdWx0KTsKICAgICAgfTsKICAgICAgcmVhZGVyLnJlYWRBc0FycmF5QnVmZmVyKGZpbGUpOwogICAgfSk7CiAgICAvLyBXYWl0IGZvciB0aGUgZGF0YSB0byBiZSByZWFkeS4KICAgIGxldCBmaWxlRGF0YSA9IHlpZWxkIHsKICAgICAgcHJvbWlzZTogZmlsZURhdGFQcm9taXNlLAogICAgICByZXNwb25zZTogewogICAgICAgIGFjdGlvbjogJ2NvbnRpbnVlJywKICAgICAgfQogICAgfTsKCiAgICAvLyBVc2UgYSBjaHVua2VkIHNlbmRpbmcgdG8gYXZvaWQgbWVzc2FnZSBzaXplIGxpbWl0cy4gU2VlIGIvNjIxMTU2NjAuCiAgICBsZXQgcG9zaXRpb24gPSAwOwogICAgd2hpbGUgKHBvc2l0aW9uIDwgZmlsZURhdGEuYnl0ZUxlbmd0aCkgewogICAgICBjb25zdCBsZW5ndGggPSBNYXRoLm1pbihmaWxlRGF0YS5ieXRlTGVuZ3RoIC0gcG9zaXRpb24sIE1BWF9QQVlMT0FEX1NJWkUpOwogICAgICBjb25zdCBjaHVuayA9IG5ldyBVaW50OEFycmF5KGZpbGVEYXRhLCBwb3NpdGlvbiwgbGVuZ3RoKTsKICAgICAgcG9zaXRpb24gKz0gbGVuZ3RoOwoKICAgICAgY29uc3QgYmFzZTY0ID0gYnRvYShTdHJpbmcuZnJvbUNoYXJDb2RlLmFwcGx5KG51bGwsIGNodW5rKSk7CiAgICAgIHlpZWxkIHsKICAgICAgICByZXNwb25zZTogewogICAgICAgICAgYWN0aW9uOiAnYXBwZW5kJywKICAgICAgICAgIGZpbGU6IGZpbGUubmFtZSwKICAgICAgICAgIGRhdGE6IGJhc2U2NCwKICAgICAgICB9LAogICAgICB9OwogICAgICBwZXJjZW50LnRleHRDb250ZW50ID0KICAgICAgICAgIGAke01hdGgucm91bmQoKHBvc2l0aW9uIC8gZmlsZURhdGEuYnl0ZUxlbmd0aCkgKiAxMDApfSUgZG9uZWA7CiAgICB9CiAgfQoKICAvLyBBbGwgZG9uZS4KICB5aWVsZCB7CiAgICByZXNwb25zZTogewogICAgICBhY3Rpb246ICdjb21wbGV0ZScsCiAgICB9CiAgfTsKfQoKc2NvcGUuZ29vZ2xlID0gc2NvcGUuZ29vZ2xlIHx8IHt9OwpzY29wZS5nb29nbGUuY29sYWIgPSBzY29wZS5nb29nbGUuY29sYWIgfHwge307CnNjb3BlLmdvb2dsZS5jb2xhYi5fZmlsZXMgPSB7CiAgX3VwbG9hZEZpbGVzLAogIF91cGxvYWRGaWxlc0NvbnRpbnVlLAp9Owp9KShzZWxmKTsK",
              "ok": true,
              "headers": [
                [
                  "content-type",
                  "application/javascript"
                ]
              ],
              "status": 200,
              "status_text": ""
            }
          },
          "base_uri": "https://localhost:8080/",
          "height": 72
        },
        "outputId": "895e72b9-dc73-48e6-ea90-c9630e6c1f93"
      },
      "source": [
        "from google.colab import files\n",
        "uploadGlove = files.upload() "
      ],
      "execution_count": null,
      "outputs": [
        {
          "output_type": "display_data",
          "data": {
            "text/html": [
              "\n",
              "     <input type=\"file\" id=\"files-acd57e25-e256-42c4-a946-72d3cd746f0b\" name=\"files[]\" multiple disabled\n",
              "        style=\"border:none\" />\n",
              "     <output id=\"result-acd57e25-e256-42c4-a946-72d3cd746f0b\">\n",
              "      Upload widget is only available when the cell has been executed in the\n",
              "      current browser session. Please rerun this cell to enable.\n",
              "      </output>\n",
              "      <script src=\"/nbextensions/google.colab/files.js\"></script> "
            ],
            "text/plain": [
              "<IPython.core.display.HTML object>"
            ]
          },
          "metadata": {
            "tags": []
          }
        },
        {
          "output_type": "stream",
          "text": [
            "Saving glove.short.txt to glove.short.txt\n"
          ],
          "name": "stdout"
        }
      ]
    },
    {
      "cell_type": "code",
      "metadata": {
        "id": "MOSHKuTc7H2B",
        "colab_type": "code",
        "colab": {
          "resources": {
            "http://localhost:8080/nbextensions/google.colab/files.js": {
              "data": "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",
              "ok": true,
              "headers": [
                [
                  "content-type",
                  "application/javascript"
                ]
              ],
              "status": 200,
              "status_text": ""
            }
          },
          "base_uri": "https://localhost:8080/",
          "height": 72
        },
        "outputId": "e5c4d709-bf7d-4e33-f567-329e3df0f454"
      },
      "source": [
        "from google.colab import files\n",
        "uploadTweets = files.upload()"
      ],
      "execution_count": null,
      "outputs": [
        {
          "output_type": "display_data",
          "data": {
            "text/html": [
              "\n",
              "     <input type=\"file\" id=\"files-3e19dcf6-3602-4055-8cac-877e4f0ed31d\" name=\"files[]\" multiple disabled\n",
              "        style=\"border:none\" />\n",
              "     <output id=\"result-3e19dcf6-3602-4055-8cac-877e4f0ed31d\">\n",
              "      Upload widget is only available when the cell has been executed in the\n",
              "      current browser session. Please rerun this cell to enable.\n",
              "      </output>\n",
              "      <script src=\"/nbextensions/google.colab/files.js\"></script> "
            ],
            "text/plain": [
              "<IPython.core.display.HTML object>"
            ]
          },
          "metadata": {
            "tags": []
          }
        },
        {
          "output_type": "stream",
          "text": [
            "Saving Tweets_short.csv to Tweets_short.csv\n"
          ],
          "name": "stdout"
        }
      ]
    },
    {
      "cell_type": "markdown",
      "metadata": {
        "id": "iWHOlS5JzbZl",
        "colab_type": "text"
      },
      "source": [
        "sentqs_preprocess.py"
      ]
    },
    {
      "cell_type": "code",
      "metadata": {
        "id": "YvlJYqlHzeJ4",
        "colab_type": "code",
        "colab": {
          "base_uri": "https://localhost:8080/",
          "height": 1000
        },
        "outputId": "379bb2c0-3694-4522-d792-e222e1c5784b"
      },
      "source": [
        "import scipy.io as sio\n",
        "import pandas as pd\n",
        "import numpy as np\n",
        "import os\n",
        "from sklearn import preprocessing\n",
        "# import cleanup --> already in notebook\n",
        "import keras\n",
        "from sklearn.feature_extraction.text import TfidfVectorizer\n",
        "#from tensorflow.keras.layers import Dense, Embedding, Flatten, Input, Conv1D, GlobalMaxPooling1D, MaxPooling1D\n",
        "from keras.utils import np_utils\n",
        "from tensorflow.keras.preprocessing.sequence import skipgrams, pad_sequences\n",
        "from sklearn.manifold import TSNE\n",
        "from tensorflow.keras.models import Sequential\n",
        "from sklearn import decomposition\n",
        "#from keras_preprocessing.text import Tokenizer\n",
        "from sklearn.preprocessing import MultiLabelBinarizer\n",
        "import matplotlib.pyplot as plt\n",
        "from keras.preprocessing.sequence import make_sampling_table\n",
        "from numpy import asarray, zeros\n",
        "from tensorflow.keras.preprocessing.text import Tokenizer\n",
        "from tensorflow.keras.utils import to_categorical\n",
        "from tensorflow.keras.layers import Dense, Input, GlobalMaxPooling3D, GlobalMaxPooling2D, MaxPooling2D, GlobalAveragePooling2D,BatchNormalization\n",
        "from tensorflow.keras.layers import Conv2D, Conv3D, Conv2D, MaxPooling3D, Embedding, concatenate\n",
        "from tensorflow.keras.models import Model\n",
        "from tensorflow.keras.initializers import Constant\n",
        "# from keras.utils.vis_utils import plot_model\n",
        "from tensorflow.keras.utils import plot_model\n",
        "from scipy import spatial\n",
        "from gensim.models import Word2Vec\n",
        "from tensorflow.keras.applications.densenet import DenseNet121\n",
        "from tensorflow.keras.layers import concatenate\n",
        "from tensorflow.keras import backend\n",
        "import tensorflow as tf\n",
        "\n",
        "def load_data_run_classification():\n",
        "  # data/\n",
        "    data = np.load('sentqs_dataset.npz')\n",
        "    Xs = data[\"arr_0\"]\n",
        "    Ys = data[\"arr_1\"]\n",
        "    Xt = data[\"arr_2\"]\n",
        "    Yt = data[\"arr_3\"]\n",
        "    print(\"Classification Task Test \\n\")\n",
        "    from sklearn.ensemble import GradientBoostingClassifier\n",
        "    clf = GradientBoostingClassifier(n_estimators=100, learning_rate=1.0, max_depth=1, random_state=0).fit(Xs, Ys)\n",
        "    print(clf.score(Xt, Yt))\n",
        "\n",
        "def create_tfidf(sen,min_df=10,max_df=100):\n",
        "    print(\"Create TF-IDF\\n\")\n",
        "    vectorizer = TfidfVectorizer(min_df=min_df, max_df=max_df)\n",
        "    X = vectorizer.fit_transform(sen)\n",
        "    return X.toarray()\n",
        "\n",
        "def save_dataset(X, y, prefix =\"\"):\n",
        "    print(\"Save Dataset \\n\")\n",
        "    y = np.array(y)[:, None]\n",
        "    dataset = np.concatenate([y,X], axis=1)\n",
        "\n",
        "    # data/\n",
        "    np.save(\"sentqs_da_\"+str(prefix)+\".npy\",dataset)\n",
        "    return dataset\n",
        "\n",
        "def seperate_tweets(data,hashtags,sentiment):\n",
        "    print(\"Seperate Tweets \\n\")\n",
        "    labels = []\n",
        "    tweets = []\n",
        "    sentiment_new = []\n",
        "    for t,s in zip(data,sentiment):\n",
        "        for h in hashtags:\n",
        "            t = t.lower()\n",
        "            h = \"#\" + h.lower()\n",
        "            if h in t:\n",
        "                labels.append(h)\n",
        "                tweets.append(t.replace(h,\" \"))\n",
        "                sentiment_new.append(s)\n",
        "                break\n",
        "\n",
        "    return labels,tweets,sentiment_new\n",
        "\n",
        "def generate_data(corpus, window_size, V):\n",
        "    for words in corpus:\n",
        "        couples, labels = skipgrams(words, V, window_size, negative_samples=1, shuffle=True,sampling_table=make_sampling_table(V, sampling_factor=1e-05))\n",
        "        if couples:\n",
        "            X, y = zip(*couples)\n",
        "            X = np_utils.to_categorical(X, V)\n",
        "            y = np_utils.to_categorical(y, V)\n",
        "            yield X, y\n",
        "\n",
        "def get_glove_embedding_matrix(texts, dim=200):\n",
        "    # data/\n",
        "    if os.path.isfile(\"sentqs_glove_embedding.npz\"):\n",
        "      # data/\n",
        "        loaded_embedding = np.load(\"sentqs_glove_embedding.npz\")\n",
        "        print('Loaded Glove embedding.')\n",
        "        return loaded_embedding['embedding']\n",
        "    else:\n",
        "        # first, build index mapping words in the embeddings set\n",
        "        # to their embedding vector\n",
        "\n",
        "        tokenizer = Tokenizer()\n",
        "        tokenizer.fit_on_texts(texts)\n",
        "        sequences = tokenizer.texts_to_sequences(texts)\n",
        "\n",
        "        word_index = tokenizer.word_index\n",
        "\n",
        "        print('Indexing word vectors.')\n",
        "\n",
        "        embeddings_index = {}\n",
        "        # data/\n",
        "        # evtl. größeren Datensatz wenn möglich verwenden\n",
        "        with open('glove.short.txt', encoding=\"utf8\") as f:\n",
        "            for line in f:\n",
        "                word, coefs = line.split(maxsplit=1)\n",
        "                coefs = np.fromstring(coefs, 'f', sep=' ')\n",
        "                embeddings_index[word] = coefs\n",
        "\n",
        "        print('Found %s word vectors.' % len(embeddings_index))\n",
        "        print('Preparing embedding matrix.')\n",
        "\n",
        "        # prepare embedding matrix\n",
        "        num_words = len(word_index) + 1\n",
        "        embedding_matrix = np.zeros((num_words, dim))\n",
        "        counter = 0\n",
        "        for word, i in word_index.items():\n",
        "            # if i >= MAX_NUM_WORDS:\n",
        "            #    counter +=1\n",
        "            #    continue\n",
        "            embedding_vector = embeddings_index.get(word)\n",
        "            if embedding_vector is not None:\n",
        "                # words not found in embedding index will be all-zeros.\n",
        "                embedding_matrix[i] = embedding_vector\n",
        "\n",
        "        # data/\n",
        "        np.savez_compressed(\"sentqs_glove_embedding.npz\", embedding=embedding_matrix)\n",
        "        return embedding_matrix\n",
        "\n",
        "# epochs 100 to 10\n",
        "# batch_size, epochs je nach Menge an Daten die eingespeißt werden\n",
        "def get_skipgram_sentence_embedding_matrix(text, dim=200, batch_size=2, window_size=5, epochs = 1):\n",
        "  # data/\n",
        "    if os.path.isfile(\"sentqs_skipgram_sentence_embedding.npz\"):\n",
        "      # data/\n",
        "        loaded_embedding = np.load(\"sentqs_skipgram_sentence_embedding.npz\")\n",
        "        loaded_embedding = loaded_embedding[\"embedding\"]\n",
        "        print('Loaded Skipgram embedding.')\n",
        "        return loaded_embedding\n",
        "    else:\n",
        "        text = [''.join(x) for x in text]\n",
        "        t = Tokenizer()\n",
        "        t.fit_on_texts(text)\n",
        "        corpus = t.texts_to_sequences(text)\n",
        "        print(corpus)\n",
        "        V = len(t.word_index)\n",
        "        step_size = len(corpus) // batch_size\n",
        "        model = Sequential()\n",
        "        model.add(Dense(dim, input_dim=V, activation=\"softmax\"))\n",
        "        model.add(Dense(V, input_dim=dim, activation='softmax'))\n",
        "\n",
        "        model.compile(loss='categorical_crossentropy', optimizer='rmsprop')\n",
        "        model.summary()\n",
        "\n",
        "        model.fit(generate_data(corpus, window_size, V), epochs=epochs, steps_per_epoch=step_size)\n",
        "        # model.save(\"data/sentqs_full_skigram_arc.h5\")\n",
        "        mlb = MultiLabelBinarizer()\n",
        "        print(\"step 1\")\n",
        "        enc = mlb.fit_transform(corpus)\n",
        "        print(\"step 2\")\n",
        "        emb = enc @ model.get_weights()[0]\n",
        "        # data/\n",
        "        np.savez_compressed(\"sentqs_skipgram_sentence_embedding\", embedding=emb)\n",
        "        return emb\n",
        "\n",
        "def  get_skipgram_gensim_embedding_matrix(text, dim = 200, window_size=5, min_word_occurance=1, epochs=1):\n",
        "  # data/\n",
        "    if os.path.isfile(\"sentqs_skipgram_gensim_embedding.npz\"):\n",
        "      # data/\n",
        "        loaded_embedding = np.load(\"sentqs_skipgram_gensim_embedding.npz\")\n",
        "        loaded_embedding = loaded_embedding[\"embedding\"]\n",
        "        print('Loaded Skipgram embedding.')\n",
        "        return loaded_embedding\n",
        "    else:\n",
        "        x = [row.split(' ') for row in text]\n",
        "        model = Word2Vec(x, size=dim, window=window_size, min_count=min_word_occurance, workers=4, sg=1) #sg = 1: use skipgram\n",
        "\n",
        "        words = model.wv.vocab.keys()\n",
        "        vocab_size = len(words)\n",
        "        print(\"Vocab size\", vocab_size)\n",
        "\n",
        "        t = Tokenizer()\n",
        "        t.fit_on_texts(text)\n",
        "\n",
        "        # total vocabulary size plus 0 for unknown words\n",
        "        # vocab_size = len(vocab) + 1\n",
        "        # define weight matrix dimensions with all 0\n",
        "        weight_matrix = zeros((vocab_size, dim))\n",
        "        # step vocab, store vectors using the Tokenizer's integer mapping\n",
        "        for word, i in t.word_index.items():\n",
        "            if i > vocab_size: break\n",
        "            if word in model.wv.vocab.keys():\n",
        "                weight_matrix[i] = model.wv[word]\n",
        "\n",
        "        # data/\n",
        "        np.savez_compressed(\"sentqs_skipgram_gensim_embedding\", embedding=weight_matrix)\n",
        "        return weight_matrix\n",
        "\n",
        "def generate_embedding_model(text, y,source_idx,target_idx,batch_size=32, epochs = 50, save = True, dim = 200, val_split=0.2,model_size=\"medium\"):\n",
        "    # Preprocessing\n",
        "    #MAX_SEQUENCE_LENGTH = len(max(text, key=lambda i: len(i))) + 1\n",
        "    MAX_SEQUENCE_LENGTH = 335\n",
        "    texts = [''.join(x) for x in text]\n",
        "    # finally, vectorize the text samples into a 2D integer tensor\n",
        "    tokenizer = Tokenizer()\n",
        "    tokenizer.fit_on_texts(texts)\n",
        "    sequences = tokenizer.texts_to_sequences(texts)\n",
        "\n",
        "    word_index = tokenizer.word_index\n",
        "    print('Found %s unique tokens.' % len(word_index))\n",
        "\n",
        "    data = pad_sequences(sequences, maxlen=MAX_SEQUENCE_LENGTH)\n",
        "\n",
        "    labels = to_categorical(np.asarray(y))\n",
        "    print('Shape of data tensor:', data.shape)\n",
        "    print('Shape of label tensor:', labels.shape)\n",
        "    num_words = len(word_index) + 1\n",
        "\n",
        "    # split the data into a training set and a validation set\n",
        "    indices = np.arange(data.shape[0])\n",
        "    np.random.shuffle(indices)\n",
        "    data = data[indices]\n",
        "    labels = labels[indices]\n",
        "    num_validation_samples = int(val_split * data.shape[0])\n",
        "\n",
        "    x_train = data[source_idx]\n",
        "    y_train = labels[source_idx]\n",
        "    x_val = data[target_idx]\n",
        "    y_val = labels[target_idx]\n",
        "\n",
        "    emb = get_skipgram_gensim_embedding_matrix(text, epochs=1)\n",
        "    emb = np.expand_dims(emb, 1)\n",
        "    emb_train = emb[:-num_validation_samples]\n",
        "    emb_val = emb[-num_validation_samples:]\n",
        "    # Build model\n",
        "    MAX_SEQUENCE_LENGTH = len(max(text, key=lambda i: len(i))) + 1\n",
        "    with tf.device('/GPU:0'):\n",
        "        sequence_input = Input(shape=(MAX_SEQUENCE_LENGTH,), dtype='int32',name=\"embedding_input\")\n",
        "\n",
        "        glove_embedding_layer = Embedding(num_words,\n",
        "                                    dim,\n",
        "                                    weights=[get_glove_embedding_matrix(texts, dim)],\n",
        "                                    input_length=MAX_SEQUENCE_LENGTH,\n",
        "                                    trainable=False)(sequence_input)\n",
        "        skipgram_embedding_layer = Embedding(num_words,\n",
        "                                    dim,\n",
        "                                    weights=[get_skipgram_gensim_embedding_matrix(texts, dim)],\n",
        "                                    input_length=MAX_SEQUENCE_LENGTH,\n",
        "                                    trainable=False)(sequence_input)\n",
        "\n",
        "        if model_size ==\"medium\":\n",
        "\n",
        "            combined=  tf.keras.layers.Lambda(lambda t: tf.stack(t,axis=3))([skipgram_embedding_layer, glove_embedding_layer])\n",
        "            x = Conv2D(128, 5, activation='relu')(combined)\n",
        "            x = MaxPooling2D(5)(x)\n",
        "            x = Conv2D(128, 5, activation='relu')(x)\n",
        "            x = MaxPooling2D(5)(x)\n",
        "            x = Conv2D(128, 5, activation='relu')(x)\n",
        "            x = GlobalMaxPooling2D()(x)\n",
        "            x = Dense(128, activation='relu')(x)\n",
        "\n",
        "\n",
        "\n",
        "        if model_size ==\"large\":\n",
        "            skipgram_sentence_embedding = Embedding(num_words,\n",
        "                                    dim,\n",
        "                                    #embeddings_initializer=Constant(get_skipgram_gensim_embedding_matrix(text, epochs=1)),\n",
        "                                    #weights=get_skipgram_gensim_embedding_matrix(text, epochs=1),\n",
        "                                    input_length=MAX_SEQUENCE_LENGTH,\n",
        "                                    trainable=True)(sequence_input)\n",
        "\n",
        "            combined = tf.keras.layers.Lambda(lambda t: tf.stack(t,axis=3))([skipgram_embedding_layer, glove_embedding_layer,skipgram_sentence_embedding])\n",
        "            x = DenseNet121(include_top=False, weights=None, input_shape = (MAX_SEQUENCE_LENGTH, dim, 3))(combined)\n",
        "            x = GlobalAveragePooling2D()(x)\n",
        "\n",
        "        preds = Dense(3, activation='softmax')(x)\n",
        "        model = Model(inputs=sequence_input, outputs=preds)\n",
        "        model.compile(loss='categorical_crossentropy',\n",
        "                    optimizer='rmsprop',\n",
        "                    metrics=['acc'])\n",
        "\n",
        "        model.summary()\n",
        "        # plot_model(model, to_file='model_combined.png')\n",
        "\n",
        "        # Train model\n",
        "        model.fit(x_train, y_train,\n",
        "                batch_size=batch_size,\n",
        "                epochs=epochs,\n",
        "                validation_data=(x_val, y_val))\n",
        "\n",
        "        if save:\n",
        "          # data/\n",
        "            model.save(\"sentqs_full.h5\")\n",
        "        return model\n",
        "\n",
        "def tsne_embedding(X):\n",
        "    print(\"Starting TSNE\\n\")\n",
        "    for p in [5,25,50,75,100]:\n",
        "        tsne = TSNE(n_components=2, init='random',\n",
        "             random_state=0, perplexity=p)\n",
        "        xl = tsne.fit_transform(X)\n",
        "        # data/\n",
        "        np.save(\"sentqs_tsne_\"+str(p)+\".npy\",xl)\n",
        "        print(\"Finished TSNE\\n\")\n",
        "\n",
        "\n",
        "def describe_dataset(tweets,labels):\n",
        "    data = pd.DataFrame([tweets, labels]).T\n",
        "    description = data.describe()\n",
        "    print(description)\n",
        "\n",
        "    print(\"Class Counts:\")\n",
        "    class_counts = data.groupby(1).size()\n",
        "\n",
        "    x = class_counts.to_numpy()\n",
        "    keys = class_counts.keys().to_list()\n",
        "    fig, ax = plt.subplots()\n",
        "    plt.bar(keys, x)\n",
        "    plt.ylabel(\"Tweet Count\")\n",
        "    plt.xticks(range(len(keys)), keys, rotation=45)\n",
        "    plt.xlabel(\"Hastags\")\n",
        "    plt.tight_layout()\n",
        "    # plots/\n",
        "    plt.savefig(\"sentqs_class_dist.pdf\", dpi=1000, transparent=True)\n",
        "    plt.show()\n",
        "\n",
        "def plot_eigenspectrum(x):\n",
        "    values = np.linalg.svd(x,compute_uv=False)\n",
        "    plt.bar(range(101), values[:101], align='center')\n",
        "    plt.ylabel(\"Eigenvalue\")\n",
        "    # plt.tight_layout()\n",
        "    plt.xlabel(\"No.\")\n",
        "    plt.xticks([0, 20, 40, 60, 80, 100], [1, 20, 40, 60, 80, 100])\n",
        "    # plots/\n",
        "    plt.savefig(\"sentqs_spectra.pdf\", transparent=True)\n",
        "    plt.show()\n",
        "\n",
        "\n",
        "def plot_tsne(X:None,labels):\n",
        "    tsne_embedding(X)\n",
        "\n",
        "    y = preprocessing.LabelEncoder().fit_transform(labels)\n",
        "    for p in [5, 25, 50, 75, 100]:\n",
        "      # data/\n",
        "        d = np.load(\"sentqs_tsne_\" + str(p) + \".npy\")\n",
        "        for idx, l in enumerate(list(set(labels))):\n",
        "            c = np.where(y == idx)[0]\n",
        "            x = d[c, :]\n",
        "            plt.scatter(x[:, 0], x[:, 1], s=.5, label=l)\n",
        "            plt.legend(markerscale=10., bbox_to_anchor=(1, 1.02))\n",
        "        plt.ylabel(\"$x_1$\")\n",
        "        plt.xlabel(\"$x_2$\")\n",
        "        plt.tight_layout()\n",
        "        # plots/\n",
        "        plt.savefig('sentqs_tsne_plot_' + str(p) + \".pdf\", dpi=1000, transparent=True)\n",
        "        plt.show()\n",
        "\n",
        "def create_domain_adaptation_dataset(X,tweets,source_idx,target_idx,sentiment):\n",
        "\n",
        "    Xs = X[source_idx]\n",
        "    Xt = X[target_idx]\n",
        "    Ys = sentiment[source_idx]\n",
        "    Yt = sentiment[target_idx]\n",
        "    data = [Xs,Ys,Xt,Yt]\n",
        "    # data/\n",
        "    np.savez('sentqs_dataset.npz', *data)\n",
        "    # data/\n",
        "    sio.savemat('sentqs_dataset.mat', {'Xs': Xs, 'Xt': Xt, 'Ys': Ys, 'Yt': Yt})\n",
        "    source_tweets = [tweets[i] for i in source_idx]\n",
        "    target_tweets = [tweets[i] for i in target_idx]\n",
        "\n",
        "    # data/\n",
        "    pd.DataFrame(source_tweets).to_csv(\"sentqs_source_tweets.csv\")\n",
        "    # data/\n",
        "    pd.DataFrame(target_tweets).to_csv(\"sentqs_target_tweets.csv\")\n",
        "    return  Xs,Ys,Xt,Yt\n",
        "\n",
        "def load_sentqs_tweets():\n",
        "  # data/\n",
        "    if os.path.isfile(\"sentqs_preprocessed.npz\"):\n",
        "      # data/\n",
        "        loaded_data = np.load(\"sentqs_preprocessed.npz\")\n",
        "        return loaded_data['cleaned_tweets'],loaded_data[\"tweets\"], loaded_data['y'],loaded_data['sentiment'],loaded_data[\"source_idx\"],loaded_data[\"target_idx\"]\n",
        "    else:\n",
        "        hashtags = ['ADBE', 'GOOGL', 'AMZN', 'AAPL', 'ADSK', 'BKNG', 'EXPE', 'INTC', 'MSFT', 'NFLX', 'NVDA', 'PYPL', 'SBUX',\n",
        "         'TSLA', 'XEL', 'positive', 'bad', 'sad']\n",
        "\n",
        "        # Loading and preprocessing of tweets\n",
        "        # only using a small parts of available Tweets to not overload the ram\n",
        "        df = pd.read_csv(\"Tweets_short.csv\")\n",
        "        sentiment = pd.to_numeric(df.iloc[:, -1], errors=\"raise\", downcast=\"float\")\n",
        "        labels,tweets,sentiment = seperate_tweets(df.iloc[:, 1],hashtags,sentiment)\n",
        "        cleaned_tweets = clean_text(tweets)\n",
        "\n",
        "        y = preprocessing.LabelEncoder().fit_transform(labels)\n",
        "\n",
        "        source_idx,target_idx = create_domain_adaptation_index(tweets,labels,sentiment)\n",
        "        # data/\n",
        "        np.savez_compressed(\"sentqs_preprocessed.npz\",tweets=tweets, cleaned_tweets=cleaned_tweets, y=y,sentiment=sentiment,source_idx=source_idx,target_idx=target_idx)\n",
        "        return cleaned_tweets,tweets, y,sentiment,source_idx,target_idx\n",
        "\n",
        "def create_domain_adaptation_index(tweets,labels,sentiment):\n",
        "    labels = np.array([s if \"#bad\" not in s else \"#sad\" for s in labels])\n",
        "    source_idx  = np.array([i for i,val in enumerate(labels) if val== \"#sad\" or val == \"#bad\" ])\n",
        "    target_idx = np.array([i for i,val in enumerate(labels) if val != \"#sad\" and val != \"#bad\" ])\n",
        "    return source_idx,target_idx\n",
        "\n",
        "\n",
        "def main_preprocessing(mode=\"multi_semantic_embedding\"):\n",
        "\n",
        "    # Load neccessary informations about the dataset\n",
        "    cleaned_tweets,tweets,hashtags,sentiment, source_idx, target_idx = load_sentqs_tweets()\n",
        "\n",
        "    if mode == \"multi_semantic_embedding\":\n",
        "\n",
        "        # Obtain embeddings and train deep learning model\n",
        "        model = generate_embedding_model(cleaned_tweets,sentiment,source_idx,target_idx,model_size=\"medium\")\n",
        "\n",
        "\n",
        "    elif mode == \"train_embedding\":\n",
        "        #Obtain skipgram embedding only\n",
        "        #Create feature representation: TFIDF-Variants and skipgram embedding with 1000 dimension and negative sampling\n",
        "        # Output will be saved to disk\n",
        "        get_glove_embedding_matrix(cleaned_tweets)\n",
        "        get_skipgram_gensim_embedding_matrix(cleaned_tweets)\n",
        "\n",
        "        # Sentence Skipgram is the base feature representation of the datatset\n",
        "        X = get_skipgram_sentence_embedding_matrix(cleaned_tweets)\n",
        "        create_domain_adaptation_dataset(X,tweets,source_idx,target_idx,sentiment)\n",
        "        # Another possible embedding:\n",
        "\n",
        "\n",
        "\n",
        "\n",
        "    elif mode == \"describe_dataset\":\n",
        "        # # Describe dataset with some common characteristics\n",
        "        describe_dataset(cleaned_tweets,hashtags)\n",
        "\n",
        "        # ## Plot eigenspectrum of embeddings\n",
        "        #data/\n",
        "        X = np.load(\"sentqs_skipgram_sentence_embedding.npz\",allow_pickle=True)\n",
        "        print(X.files)\n",
        "        plot_eigenspectrum(X['embedding'])\n",
        "\n",
        "        # ## Plot representation of 2 dimensional tsne embedding\n",
        "        plot_tsne(X['embedding'],sentiment)\n",
        "\n",
        "    else:\n",
        "        ## Loads the data into the program and trains machine learning model\n",
        "        load_data_run_classification()\n",
        "\n",
        "\n",
        "if __name__ == '__main__':\n",
        "\n",
        "    # Obtain the all files of the dataset preprocessing, including plots, feature representation etc.\n",
        "    # After running this file you will find the corresponding files for classification in the data folder\n",
        "    # select mode:\n",
        "    main_preprocessing(\"describe_dataset\")"
      ],
      "execution_count": null,
      "outputs": [
        {
          "output_type": "stream",
          "text": [
            "                                                        0    1\n",
            "count                                                 101  101\n",
            "unique                                                100   13\n",
            "top     googl tokendotdotdot what can i say ! ! e stoc...   10\n",
            "freq                                                    2   25\n",
            "Class Counts:\n"
          ],
          "name": "stdout"
        },
        {
          "output_type": "display_data",
          "data": {
            "image/png": "[encoded data removed]",
            "text/plain": [
              "<Figure size 432x288 with 1 Axes>"
            ]
          },
          "metadata": {
            "tags": [],
            "needs_background": "light"
          }
        },
        {
          "output_type": "stream",
          "text": [
            "['embedding']\n"
          ],
          "name": "stdout"
        },
        {
          "output_type": "display_data",
          "data": {
            "image/png": "[encoded data removed]",
            "text/plain": [
              "<Figure size 432x288 with 1 Axes>"
            ]
          },
          "metadata": {
            "tags": [],
            "needs_background": "light"
          }
        },
        {
          "output_type": "stream",
          "text": [
            "Starting TSNE\n",
            "\n",
            "Finished TSNE\n",
            "\n",
            "Finished TSNE\n",
            "\n",
            "Finished TSNE\n",
            "\n",
            "Finished TSNE\n",
            "\n",
            "Finished TSNE\n",
            "\n"
          ],
          "name": "stdout"
        },
        {
          "output_type": "display_data",
          "data": {
            "image/png": "[encoded data removed]",
            "text/plain": [
              "<Figure size 432x288 with 1 Axes>"
            ]
          },
          "metadata": {
            "tags": [],
            "needs_background": "light"
          }
        },
        {
          "output_type": "display_data",
          "data": {
            "image/png": "[encoded data removed]",
            "text/plain": [
              "<Figure size 432x288 with 1 Axes>"
            ]
          },
          "metadata": {
            "tags": [],
            "needs_background": "light"
          }
        },
        {
          "output_type": "display_data",
          "data": {
            "image/png": "[encoded data removed]",
            "text/plain": [
              "<Figure size 432x288 with 1 Axes>"
            ]
          },
          "metadata": {
            "tags": [],
            "needs_background": "light"
          }
        },
        {
          "output_type": "display_data",
          "data": {
            "image/png": "[encoded data removed]",
            "text/plain": [
              "<Figure size 432x288 with 1 Axes>"
            ]
          },
          "metadata": {
            "tags": [],
            "needs_background": "light"
          }
        },
        {
          "output_type": "display_data",
          "data": {
            "image/png": "[encoded data removed]",
            "text/plain": [
              "<Figure size 432x288 with 1 Axes>"
            ]
          },
          "metadata": {
            "tags": [],
            "needs_background": "light"
          }
        }
      ]
    },
    {
      "cell_type": "markdown",
      "metadata": {
        "id": "VFOOi63mz4pI",
        "colab_type": "text"
      },
      "source": [
        "sentqs_demo.py"
      ]
    },
    {
      "cell_type": "code",
      "metadata": {
        "id": "3515sJZ-z8RC",
        "colab_type": "code",
        "colab": {
          "base_uri": "https://localhost:8080/",
          "height": 153
        },
        "outputId": "83f91f11-4343-481a-c86a-f95d8d99e282"
      },
      "source": [
        "# Error: default_graph when using only keras and not tensorflow.keras\n",
        "from tensorflow.keras.preprocessing import sequence\n",
        "from tensorflow.keras.models import Sequential\n",
        "from tensorflow.keras.layers import Dense, Dropout, Activation\n",
        "from tensorflow.keras.layers import Embedding\n",
        "from tensorflow.keras.layers import LSTM\n",
        "from tensorflow.keras.layers import Conv1D, MaxPooling1D,Conv2D\n",
        "from tensorflow.keras.datasets import imdb\n",
        "import requests\n",
        "import sys\n",
        "import numpy as np\n",
        "# from NBT import NBT --> already in notebook\n",
        "from sklearn.ensemble import GradientBoostingClassifier\n",
        "from sklearn import preprocessing\n",
        "link = \"https://cloud.fhws.de/index.php/s/M4rkbHj9FfW6YKo/download\"\n",
        "# data/\n",
        "file_name = \"sentqs_dataset.npz\"\n",
        "\n",
        "def download_data():\n",
        "    with open(file_name, \"wb\") as f:\n",
        "            print(\"Downloading %s\" % file_name)\n",
        "            response = requests.get(link, stream=True)\n",
        "            total_length = response.headers.get('content-length')\n",
        "\n",
        "            if total_length is None: # no content length header\n",
        "                f.write(response.content)\n",
        "            else:\n",
        "                dl = 0\n",
        "                total_length = int(total_length)\n",
        "                for data in response.iter_content(chunk_size=4096):\n",
        "                    dl += len(data)\n",
        "                    f.write(data)\n",
        "                    done = int(50 * dl / total_length)\n",
        "                    sys.stdout.write(\"\\r[%s%s]\" % ('=' * done, ' ' * (50-done)) )\n",
        "                    sys.stdout.flush()\n",
        "\n",
        "    data = np.load(file_name,allow_pickle=True)\n",
        "    Xs = data[\"arr_0\"]\n",
        "    Ys = data[\"arr_1\"]\n",
        "    Xt = data[\"arr_2\"]\n",
        "    Yt = data[\"arr_3\"]\n",
        "    return Xs,Ys,Xt,Yt\n",
        "\n",
        "#Xs,Ys,Xt,Yt = download_data()\n",
        "\n",
        "#If dataset file is already downloaded\n",
        "data = np.load(file_name,allow_pickle=True)\n",
        "Xs = data[\"arr_0\"]\n",
        "Ys = data[\"arr_1\"]\n",
        "Xt = data[\"arr_2\"]\n",
        "Yt = data[\"arr_3\"]\n",
        "\n",
        "# Convolution\n",
        "kernel_size = 5\n",
        "filters = 64\n",
        "pool_size = 4\n",
        "\n",
        "# Training\n",
        "batch_size = 256\n",
        "epochs = 2\n",
        "# LSTM\n",
        "\n",
        "lstm_output_size = 70\n",
        "Xs = np.expand_dims(Xs, 2)\n",
        "Xt = np.expand_dims(Xt, 2)\n",
        "\n",
        "\n",
        "model = Sequential()\n",
        "model.add(Conv1D(filters,\n",
        "                 kernel_size,\n",
        "                 padding='valid',\n",
        "                 activation='relu',\n",
        "                 strides=1))\n",
        "model.add(MaxPooling1D(pool_size=pool_size))\n",
        "model.add(LSTM(lstm_output_size))\n",
        "model.add(Dense(35))\n",
        "model.add(Dense(1))\n",
        "model.add(Activation('sigmoid'))\n",
        "\n",
        "model.compile(loss='binary_crossentropy',\n",
        "              optimizer='adam',\n",
        "              metrics=['accuracy'])\n",
        "# model.summary()\n",
        "print('Train...')\n",
        "model.fit(Xs, Ys,\n",
        "          batch_size=batch_size,\n",
        "          epochs=epochs,\n",
        "          validation_data=(Xt, Yt))\n",
        "score, acc = model.evaluate(Xt, Yt, batch_size=batch_size)\n",
        "print('Test score:', score)\n",
        "print('Test accuracy:', acc)"
      ],
      "execution_count": null,
      "outputs": [
        {
          "output_type": "stream",
          "text": [
            "Train...\n",
            "Epoch 1/2\n",
            "1/1 [==============================] - 1s 636ms/step - loss: 0.7427 - accuracy: 0.0000e+00 - val_loss: 0.6817 - val_accuracy: 0.6806\n",
            "Epoch 2/2\n",
            "1/1 [==============================] - 0s 33ms/step - loss: 0.6499 - accuracy: 0.2414 - val_loss: 0.6575 - val_accuracy: 0.6806\n",
            "1/1 [==============================] - 0s 881us/step - loss: 0.6575 - accuracy: 0.6806\n",
            "Test score: 0.6574681401252747\n",
            "Test accuracy: 0.6805555820465088\n"
          ],
          "name": "stdout"
        }
      ]
    }
  ]
}
